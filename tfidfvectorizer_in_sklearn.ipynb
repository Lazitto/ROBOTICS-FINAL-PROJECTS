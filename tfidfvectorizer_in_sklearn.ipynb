{
  "nbformat": 4,
  "nbformat_minor": 0,
  "metadata": {
    "colab": {
      "provenance": [],
      "include_colab_link": true
    },
    "kernelspec": {
      "name": "python3",
      "display_name": "Python 3"
    },
    "language_info": {
      "name": "python"
    }
  },
  "cells": [
    {
      "cell_type": "markdown",
      "metadata": {
        "id": "view-in-github",
        "colab_type": "text"
      },
      "source": [
        "<a href=\"https://colab.research.google.com/github/Lazitto/ROBOTICS-FINAL-PROJECTS/blob/main/tfidfvectorizer_in_sklearn.ipynb\" target=\"_parent\"><img src=\"https://colab.research.google.com/assets/colab-badge.svg\" alt=\"Open In Colab\"/></a>"
      ]
    },
    {
      "cell_type": "code",
      "execution_count": null,
      "metadata": {
        "id": "SxJpyI8cKxRN"
      },
      "outputs": [],
      "source": [
        "from sklearn.feature_extraction.text import TfidfVectorizer"
      ]
    },
    {
      "cell_type": "code",
      "source": [
        "corpus = ['This is the first document.',\n",
        "          'This document is the second document.',\n",
        "          'And this is the third one.',\n",
        "          'Is this the first document?']"
      ],
      "metadata": {
        "id": "Yw_7VjoSK8zA"
      },
      "execution_count": null,
      "outputs": []
    },
    {
      "cell_type": "code",
      "source": [
        "vectorizer = TfidfVectorizer (max_df=0.5)"
      ],
      "metadata": {
        "id": "IGt2dcFkLl0c"
      },
      "execution_count": null,
      "outputs": []
    },
    {
      "cell_type": "code",
      "source": [
        "# learn the vocab, and idf > document term matrix\n",
        "X = vectorizer.fit_transform(corpus)"
      ],
      "metadata": {
        "id": "d2OgqwRLLzRv"
      },
      "execution_count": null,
      "outputs": []
    },
    {
      "cell_type": "code",
      "source": [
        "vectorizer.get_feature_names_out()"
      ],
      "metadata": {
        "colab": {
          "base_uri": "https://localhost:8080/"
        },
        "id": "_IeL_K_fL8xG",
        "outputId": "c146a5c4-0da1-4519-d235-c47a99af8a1f"
      },
      "execution_count": null,
      "outputs": [
        {
          "output_type": "execute_result",
          "data": {
            "text/plain": [
              "array(['and', 'first', 'one', 'second', 'third'], dtype=object)"
            ]
          },
          "metadata": {},
          "execution_count": 12
        }
      ]
    },
    {
      "cell_type": "code",
      "source": [
        "# (lines, words)\n",
        "X.shape"
      ],
      "metadata": {
        "colab": {
          "base_uri": "https://localhost:8080/"
        },
        "id": "fswiwPvqMcZi",
        "outputId": "21077fe1-9d79-4baf-db88-ec75c8c59ddc"
      },
      "execution_count": null,
      "outputs": [
        {
          "output_type": "execute_result",
          "data": {
            "text/plain": [
              "(4, 9)"
            ]
          },
          "metadata": {},
          "execution_count": 9
        }
      ]
    },
    {
      "cell_type": "code",
      "source": [
        "vectorizer.idf_"
      ],
      "metadata": {
        "colab": {
          "base_uri": "https://localhost:8080/"
        },
        "id": "ZuQYaDZyMxsU",
        "outputId": "8fdc0dc3-8f28-46b6-b565-209fc7a36327"
      },
      "execution_count": null,
      "outputs": [
        {
          "output_type": "execute_result",
          "data": {
            "text/plain": [
              "array([1.91629073, 1.51082562, 1.91629073, 1.91629073, 1.91629073])"
            ]
          },
          "metadata": {},
          "execution_count": 13
        }
      ]
    },
    {
      "cell_type": "code",
      "source": [],
      "metadata": {
        "id": "9hfTWKCCNiSl"
      },
      "execution_count": null,
      "outputs": []
    },
    {
      "cell_type": "markdown",
      "source": [
        "Practice"
      ],
      "metadata": {
        "id": "ve_9kagBNnPq"
      }
    },
    {
      "cell_type": "code",
      "source": [
        "from sklearn.feature_extraction.text import TfidfVectorizer"
      ],
      "metadata": {
        "id": "3RE18u4cNqqr"
      },
      "execution_count": null,
      "outputs": []
    },
    {
      "cell_type": "code",
      "source": [
        "labourComment = ['PERFORMED LUBE OIL AND FILTER SERVICE COMPLETED.',\n",
        "          'SERVICE SPECIAL. INCLUDES LUBE, OIL AND FILTER, TIRE ROTATION, & 27 PT INSPECTIO OIL LIFE 18% PERFORMED SERVICE.',\n",
        "          'TIRES MOUNTED AND BALANCED 4 TIRES.',\n",
        "          'SHOULD BE CHECKED AC SYSTEM, FREON CHARGE GOOD CHECKED AIR TEMP OUTPUT AT VENTS WHEN SET AT 74 THE VENT AIR TEMP WAS 66, WHEN TEMP SET TO 64 THE VENT TEMP WENT TO 52 FOUND RECIRC NOT TURNED ON WITH AC AC OPERATING AS DESIGNED AT THIS TIME|REPLACED BATTERY.',\n",
        "          'SERVICE SPECIAL. INCLUDES LUBE, OIL AND FILTER, TIRE ROTATION, & 27 PT INSPECTIO OIL LIFE 18% PERFORMED SERVICE.',\n",
        "          'SERVICE SPECIAL. INCLUDES LUBE, OIL AND FILTER, TIRE ROTATION, & 27 PT INSPECTIO OIL LIFE 18% PERFORMED SERVICE.',\n",
        "          'ORDERED WASHER PUMP.',\n",
        "          'HISTORY CODE BUT FOUND ECM UPDATE PROGRAMMED ECM']"
      ],
      "metadata": {
        "id": "Y2hIHG6eNxUq"
      },
      "execution_count": null,
      "outputs": []
    },
    {
      "cell_type": "code",
      "source": [
        "vectorizer = TfidfVectorizer (max_df=0.5)"
      ],
      "metadata": {
        "id": "huM38e7wPj1I"
      },
      "execution_count": null,
      "outputs": []
    },
    {
      "cell_type": "code",
      "source": [
        "# learn the vocab, and idf > document term matrix\n",
        "X = vectorizer.fit_transform(labourComment)"
      ],
      "metadata": {
        "id": "4FGDZ3i_Pp93"
      },
      "execution_count": null,
      "outputs": []
    },
    {
      "cell_type": "code",
      "source": [
        "vectorizer.get_feature_names_out()"
      ],
      "metadata": {
        "colab": {
          "base_uri": "https://localhost:8080/"
        },
        "id": "HkAHVtTCP0iF",
        "outputId": "1eb128e6-44c6-4ef8-91d4-87c3fdc5a839"
      },
      "execution_count": null,
      "outputs": [
        {
          "output_type": "execute_result",
          "data": {
            "text/plain": [
              "array(['18', '27', '52', '64', '66', '74', 'ac', 'air', 'as', 'at',\n",
              "       'balanced', 'battery', 'be', 'but', 'charge', 'checked', 'code',\n",
              "       'completed', 'designed', 'ecm', 'filter', 'found', 'freon', 'good',\n",
              "       'history', 'includes', 'inspectio', 'life', 'lube', 'mounted',\n",
              "       'not', 'oil', 'on', 'operating', 'ordered', 'output', 'performed',\n",
              "       'programmed', 'pt', 'pump', 'recirc', 'replaced', 'rotation',\n",
              "       'service', 'set', 'should', 'special', 'system', 'temp', 'the',\n",
              "       'this', 'time', 'tire', 'tires', 'to', 'turned', 'update', 'vent',\n",
              "       'vents', 'was', 'washer', 'went', 'when', 'with'], dtype=object)"
            ]
          },
          "metadata": {},
          "execution_count": 7
        }
      ]
    },
    {
      "cell_type": "code",
      "source": [
        "# (lines, words)\n",
        "X.shape"
      ],
      "metadata": {
        "colab": {
          "base_uri": "https://localhost:8080/"
        },
        "id": "GeLuiwQxP4Q5",
        "outputId": "829326ae-ff4b-4b30-bc39-0ef57c930e12"
      },
      "execution_count": null,
      "outputs": [
        {
          "output_type": "execute_result",
          "data": {
            "text/plain": [
              "(8, 64)"
            ]
          },
          "metadata": {},
          "execution_count": 8
        }
      ]
    },
    {
      "cell_type": "code",
      "source": [
        "vectorizer.idf_"
      ],
      "metadata": {
        "colab": {
          "base_uri": "https://localhost:8080/"
        },
        "id": "ghnYQNOPP8pC",
        "outputId": "c1022b96-8556-4977-c98e-292854e0e279"
      },
      "execution_count": null,
      "outputs": [
        {
          "output_type": "execute_result",
          "data": {
            "text/plain": [
              "array([1.81093022, 1.81093022, 2.5040774 , 2.5040774 , 2.5040774 ,\n",
              "       2.5040774 , 2.5040774 , 2.5040774 , 2.5040774 , 2.5040774 ,\n",
              "       2.5040774 , 2.5040774 , 2.5040774 , 2.5040774 , 2.5040774 ,\n",
              "       2.5040774 , 2.5040774 , 2.5040774 , 2.5040774 , 2.5040774 ,\n",
              "       1.58778666, 2.09861229, 2.5040774 , 2.5040774 , 2.5040774 ,\n",
              "       1.81093022, 1.81093022, 1.81093022, 1.58778666, 2.5040774 ,\n",
              "       2.5040774 , 1.58778666, 2.5040774 , 2.5040774 , 2.5040774 ,\n",
              "       2.5040774 , 1.58778666, 2.5040774 , 1.81093022, 2.5040774 ,\n",
              "       2.5040774 , 2.5040774 , 1.81093022, 1.58778666, 2.5040774 ,\n",
              "       2.5040774 , 1.81093022, 2.5040774 , 2.5040774 , 2.5040774 ,\n",
              "       2.5040774 , 2.5040774 , 1.81093022, 2.5040774 , 2.5040774 ,\n",
              "       2.5040774 , 2.5040774 , 2.5040774 , 2.5040774 , 2.5040774 ,\n",
              "       2.5040774 , 2.5040774 , 2.5040774 , 2.5040774 ])"
            ]
          },
          "metadata": {},
          "execution_count": 9
        }
      ]
    },
    {
      "cell_type": "code",
      "source": [],
      "metadata": {
        "id": "ijoVvroEQkJw"
      },
      "execution_count": null,
      "outputs": []
    },
    {
      "cell_type": "markdown",
      "source": [
        "new\n"
      ],
      "metadata": {
        "id": "UzfWDqawSiwl"
      }
    },
    {
      "cell_type": "code",
      "source": [
        "from google.colab import drive\n",
        "drive.mount('/content/drive/')\n",
        "\n",
        "import os\n",
        "import pandas as pd\n",
        "\n",
        "\n",
        "df = pd.read_csv(\"/content/drive/My Drive/Datasets/Dini EDA Datasets/D10066_Adams_Buick_GMC_Inc_20230717_0245_SV.csv\")"
      ],
      "metadata": {
        "colab": {
          "base_uri": "https://localhost:8080/"
        },
        "id": "ReXrO4o0SiR5",
        "outputId": "1c59e439-a1e5-40bb-a137-6975b582bd99"
      },
      "execution_count": null,
      "outputs": [
        {
          "output_type": "stream",
          "name": "stdout",
          "text": [
            "Drive already mounted at /content/drive/; to attempt to forcibly remount, call drive.mount(\"/content/drive/\", force_remount=True).\n"
          ]
        }
      ]
    },
    {
      "cell_type": "code",
      "source": [
        "print(df.shape)\n",
        "df.head()"
      ],
      "metadata": {
        "colab": {
          "base_uri": "https://localhost:8080/",
          "height": 394
        },
        "id": "ZZWREvbcStlF",
        "outputId": "5e083b86-f128-4e78-9f56-271c4ba86021"
      },
      "execution_count": null,
      "outputs": [
        {
          "output_type": "stream",
          "name": "stdout",
          "text": [
            "(156, 200)\n"
          ]
        },
        {
          "output_type": "execute_result",
          "data": {
            "text/plain": [
              "  File Type DV Dealer ID Vendor Dealer ID  DMS Type  RO Number  Open Date  \\\n",
              "0   Service     DVD39529           D10066  Autosoft       4262  7/10/2023   \n",
              "1   Service     DVD39529           D10066  Autosoft       4288  7/10/2023   \n",
              "2   Service     DVD39529           D10066  Autosoft       4290  7/10/2023   \n",
              "3   Service     DVD39529           D10066  Autosoft       4292  7/10/2023   \n",
              "4   Service     DVD39529           D10066  Autosoft       4371  7/12/2023   \n",
              "\n",
              "  Close Date  Service Advisor Number Service Advisor Name RO Department  ...  \\\n",
              "0  7/10/2023                       3          GREG ATWELL             S  ...   \n",
              "1  7/10/2023                      93      RICKY MIDDLETON             S  ...   \n",
              "2  7/10/2023                      93      RICKY MIDDLETON             S  ...   \n",
              "3  7/11/2023                      96         WESTON PRATT             S  ...   \n",
              "4  7/12/2023                       3          GREG ATWELL             S  ...   \n",
              "\n",
              "  CASS_STD_URB  CASS_STD_FIPS  CASS_STD_EWS  CASS_STD_LACS  CASS_STD_ZIPMOV  \\\n",
              "0          NaN            NaN             N            NaN                1   \n",
              "1          NaN            NaN             N            NaN                1   \n",
              "2          NaN            NaN             N            NaN                1   \n",
              "3          NaN            NaN             N            NaN                1   \n",
              "4          NaN            NaN             N            NaN                1   \n",
              "\n",
              "   CASS_STD_Z4LOM  CASS_STD_NDIAPT  CASS_STD_NDIRR  CASS_STD_LACSRT  \\\n",
              "0              HD              1.0             NaN              NaN   \n",
              "1               P              NaN             NaN              NaN   \n",
              "2               S              NaN             NaN              NaN   \n",
              "3               S              NaN             NaN              NaN   \n",
              "4               S              NaN             NaN              NaN   \n",
              "\n",
              "   CASS_STD_ERROR_CD  \n",
              "0                NaN  \n",
              "1                NaN  \n",
              "2               E421  \n",
              "3                NaN  \n",
              "4                NaN  \n",
              "\n",
              "[5 rows x 200 columns]"
            ],
            "text/html": [
              "\n",
              "  <div id=\"df-02e9ce69-205c-4135-9dfb-d68dd6fca58f\" class=\"colab-df-container\">\n",
              "    <div>\n",
              "<style scoped>\n",
              "    .dataframe tbody tr th:only-of-type {\n",
              "        vertical-align: middle;\n",
              "    }\n",
              "\n",
              "    .dataframe tbody tr th {\n",
              "        vertical-align: top;\n",
              "    }\n",
              "\n",
              "    .dataframe thead th {\n",
              "        text-align: right;\n",
              "    }\n",
              "</style>\n",
              "<table border=\"1\" class=\"dataframe\">\n",
              "  <thead>\n",
              "    <tr style=\"text-align: right;\">\n",
              "      <th></th>\n",
              "      <th>File Type</th>\n",
              "      <th>DV Dealer ID</th>\n",
              "      <th>Vendor Dealer ID</th>\n",
              "      <th>DMS Type</th>\n",
              "      <th>RO Number</th>\n",
              "      <th>Open Date</th>\n",
              "      <th>Close Date</th>\n",
              "      <th>Service Advisor Number</th>\n",
              "      <th>Service Advisor Name</th>\n",
              "      <th>RO Department</th>\n",
              "      <th>...</th>\n",
              "      <th>CASS_STD_URB</th>\n",
              "      <th>CASS_STD_FIPS</th>\n",
              "      <th>CASS_STD_EWS</th>\n",
              "      <th>CASS_STD_LACS</th>\n",
              "      <th>CASS_STD_ZIPMOV</th>\n",
              "      <th>CASS_STD_Z4LOM</th>\n",
              "      <th>CASS_STD_NDIAPT</th>\n",
              "      <th>CASS_STD_NDIRR</th>\n",
              "      <th>CASS_STD_LACSRT</th>\n",
              "      <th>CASS_STD_ERROR_CD</th>\n",
              "    </tr>\n",
              "  </thead>\n",
              "  <tbody>\n",
              "    <tr>\n",
              "      <th>0</th>\n",
              "      <td>Service</td>\n",
              "      <td>DVD39529</td>\n",
              "      <td>D10066</td>\n",
              "      <td>Autosoft</td>\n",
              "      <td>4262</td>\n",
              "      <td>7/10/2023</td>\n",
              "      <td>7/10/2023</td>\n",
              "      <td>3</td>\n",
              "      <td>GREG ATWELL</td>\n",
              "      <td>S</td>\n",
              "      <td>...</td>\n",
              "      <td>NaN</td>\n",
              "      <td>NaN</td>\n",
              "      <td>N</td>\n",
              "      <td>NaN</td>\n",
              "      <td>1</td>\n",
              "      <td>HD</td>\n",
              "      <td>1.0</td>\n",
              "      <td>NaN</td>\n",
              "      <td>NaN</td>\n",
              "      <td>NaN</td>\n",
              "    </tr>\n",
              "    <tr>\n",
              "      <th>1</th>\n",
              "      <td>Service</td>\n",
              "      <td>DVD39529</td>\n",
              "      <td>D10066</td>\n",
              "      <td>Autosoft</td>\n",
              "      <td>4288</td>\n",
              "      <td>7/10/2023</td>\n",
              "      <td>7/10/2023</td>\n",
              "      <td>93</td>\n",
              "      <td>RICKY MIDDLETON</td>\n",
              "      <td>S</td>\n",
              "      <td>...</td>\n",
              "      <td>NaN</td>\n",
              "      <td>NaN</td>\n",
              "      <td>N</td>\n",
              "      <td>NaN</td>\n",
              "      <td>1</td>\n",
              "      <td>P</td>\n",
              "      <td>NaN</td>\n",
              "      <td>NaN</td>\n",
              "      <td>NaN</td>\n",
              "      <td>NaN</td>\n",
              "    </tr>\n",
              "    <tr>\n",
              "      <th>2</th>\n",
              "      <td>Service</td>\n",
              "      <td>DVD39529</td>\n",
              "      <td>D10066</td>\n",
              "      <td>Autosoft</td>\n",
              "      <td>4290</td>\n",
              "      <td>7/10/2023</td>\n",
              "      <td>7/10/2023</td>\n",
              "      <td>93</td>\n",
              "      <td>RICKY MIDDLETON</td>\n",
              "      <td>S</td>\n",
              "      <td>...</td>\n",
              "      <td>NaN</td>\n",
              "      <td>NaN</td>\n",
              "      <td>N</td>\n",
              "      <td>NaN</td>\n",
              "      <td>1</td>\n",
              "      <td>S</td>\n",
              "      <td>NaN</td>\n",
              "      <td>NaN</td>\n",
              "      <td>NaN</td>\n",
              "      <td>E421</td>\n",
              "    </tr>\n",
              "    <tr>\n",
              "      <th>3</th>\n",
              "      <td>Service</td>\n",
              "      <td>DVD39529</td>\n",
              "      <td>D10066</td>\n",
              "      <td>Autosoft</td>\n",
              "      <td>4292</td>\n",
              "      <td>7/10/2023</td>\n",
              "      <td>7/11/2023</td>\n",
              "      <td>96</td>\n",
              "      <td>WESTON PRATT</td>\n",
              "      <td>S</td>\n",
              "      <td>...</td>\n",
              "      <td>NaN</td>\n",
              "      <td>NaN</td>\n",
              "      <td>N</td>\n",
              "      <td>NaN</td>\n",
              "      <td>1</td>\n",
              "      <td>S</td>\n",
              "      <td>NaN</td>\n",
              "      <td>NaN</td>\n",
              "      <td>NaN</td>\n",
              "      <td>NaN</td>\n",
              "    </tr>\n",
              "    <tr>\n",
              "      <th>4</th>\n",
              "      <td>Service</td>\n",
              "      <td>DVD39529</td>\n",
              "      <td>D10066</td>\n",
              "      <td>Autosoft</td>\n",
              "      <td>4371</td>\n",
              "      <td>7/12/2023</td>\n",
              "      <td>7/12/2023</td>\n",
              "      <td>3</td>\n",
              "      <td>GREG ATWELL</td>\n",
              "      <td>S</td>\n",
              "      <td>...</td>\n",
              "      <td>NaN</td>\n",
              "      <td>NaN</td>\n",
              "      <td>N</td>\n",
              "      <td>NaN</td>\n",
              "      <td>1</td>\n",
              "      <td>S</td>\n",
              "      <td>NaN</td>\n",
              "      <td>NaN</td>\n",
              "      <td>NaN</td>\n",
              "      <td>NaN</td>\n",
              "    </tr>\n",
              "  </tbody>\n",
              "</table>\n",
              "<p>5 rows × 200 columns</p>\n",
              "</div>\n",
              "    <div class=\"colab-df-buttons\">\n",
              "\n",
              "  <div class=\"colab-df-container\">\n",
              "    <button class=\"colab-df-convert\" onclick=\"convertToInteractive('df-02e9ce69-205c-4135-9dfb-d68dd6fca58f')\"\n",
              "            title=\"Convert this dataframe to an interactive table.\"\n",
              "            style=\"display:none;\">\n",
              "\n",
              "  <svg xmlns=\"http://www.w3.org/2000/svg\" height=\"24px\" viewBox=\"0 -960 960 960\">\n",
              "    <path d=\"M120-120v-720h720v720H120Zm60-500h600v-160H180v160Zm220 220h160v-160H400v160Zm0 220h160v-160H400v160ZM180-400h160v-160H180v160Zm440 0h160v-160H620v160ZM180-180h160v-160H180v160Zm440 0h160v-160H620v160Z\"/>\n",
              "  </svg>\n",
              "    </button>\n",
              "\n",
              "  <style>\n",
              "    .colab-df-container {\n",
              "      display:flex;\n",
              "      gap: 12px;\n",
              "    }\n",
              "\n",
              "    .colab-df-convert {\n",
              "      background-color: #E8F0FE;\n",
              "      border: none;\n",
              "      border-radius: 50%;\n",
              "      cursor: pointer;\n",
              "      display: none;\n",
              "      fill: #1967D2;\n",
              "      height: 32px;\n",
              "      padding: 0 0 0 0;\n",
              "      width: 32px;\n",
              "    }\n",
              "\n",
              "    .colab-df-convert:hover {\n",
              "      background-color: #E2EBFA;\n",
              "      box-shadow: 0px 1px 2px rgba(60, 64, 67, 0.3), 0px 1px 3px 1px rgba(60, 64, 67, 0.15);\n",
              "      fill: #174EA6;\n",
              "    }\n",
              "\n",
              "    .colab-df-buttons div {\n",
              "      margin-bottom: 4px;\n",
              "    }\n",
              "\n",
              "    [theme=dark] .colab-df-convert {\n",
              "      background-color: #3B4455;\n",
              "      fill: #D2E3FC;\n",
              "    }\n",
              "\n",
              "    [theme=dark] .colab-df-convert:hover {\n",
              "      background-color: #434B5C;\n",
              "      box-shadow: 0px 1px 3px 1px rgba(0, 0, 0, 0.15);\n",
              "      filter: drop-shadow(0px 1px 2px rgba(0, 0, 0, 0.3));\n",
              "      fill: #FFFFFF;\n",
              "    }\n",
              "  </style>\n",
              "\n",
              "    <script>\n",
              "      const buttonEl =\n",
              "        document.querySelector('#df-02e9ce69-205c-4135-9dfb-d68dd6fca58f button.colab-df-convert');\n",
              "      buttonEl.style.display =\n",
              "        google.colab.kernel.accessAllowed ? 'block' : 'none';\n",
              "\n",
              "      async function convertToInteractive(key) {\n",
              "        const element = document.querySelector('#df-02e9ce69-205c-4135-9dfb-d68dd6fca58f');\n",
              "        const dataTable =\n",
              "          await google.colab.kernel.invokeFunction('convertToInteractive',\n",
              "                                                    [key], {});\n",
              "        if (!dataTable) return;\n",
              "\n",
              "        const docLinkHtml = 'Like what you see? Visit the ' +\n",
              "          '<a target=\"_blank\" href=https://colab.research.google.com/notebooks/data_table.ipynb>data table notebook</a>'\n",
              "          + ' to learn more about interactive tables.';\n",
              "        element.innerHTML = '';\n",
              "        dataTable['output_type'] = 'display_data';\n",
              "        await google.colab.output.renderOutput(dataTable, element);\n",
              "        const docLink = document.createElement('div');\n",
              "        docLink.innerHTML = docLinkHtml;\n",
              "        element.appendChild(docLink);\n",
              "      }\n",
              "    </script>\n",
              "  </div>\n",
              "\n",
              "\n",
              "<div id=\"df-e472d763-b7a4-4246-9814-e9af258873c0\">\n",
              "  <button class=\"colab-df-quickchart\" onclick=\"quickchart('df-e472d763-b7a4-4246-9814-e9af258873c0')\"\n",
              "            title=\"Suggest charts.\"\n",
              "            style=\"display:none;\">\n",
              "\n",
              "<svg xmlns=\"http://www.w3.org/2000/svg\" height=\"24px\"viewBox=\"0 0 24 24\"\n",
              "     width=\"24px\">\n",
              "    <g>\n",
              "        <path d=\"M19 3H5c-1.1 0-2 .9-2 2v14c0 1.1.9 2 2 2h14c1.1 0 2-.9 2-2V5c0-1.1-.9-2-2-2zM9 17H7v-7h2v7zm4 0h-2V7h2v10zm4 0h-2v-4h2v4z\"/>\n",
              "    </g>\n",
              "</svg>\n",
              "  </button>\n",
              "\n",
              "<style>\n",
              "  .colab-df-quickchart {\n",
              "      --bg-color: #E8F0FE;\n",
              "      --fill-color: #1967D2;\n",
              "      --hover-bg-color: #E2EBFA;\n",
              "      --hover-fill-color: #174EA6;\n",
              "      --disabled-fill-color: #AAA;\n",
              "      --disabled-bg-color: #DDD;\n",
              "  }\n",
              "\n",
              "  [theme=dark] .colab-df-quickchart {\n",
              "      --bg-color: #3B4455;\n",
              "      --fill-color: #D2E3FC;\n",
              "      --hover-bg-color: #434B5C;\n",
              "      --hover-fill-color: #FFFFFF;\n",
              "      --disabled-bg-color: #3B4455;\n",
              "      --disabled-fill-color: #666;\n",
              "  }\n",
              "\n",
              "  .colab-df-quickchart {\n",
              "    background-color: var(--bg-color);\n",
              "    border: none;\n",
              "    border-radius: 50%;\n",
              "    cursor: pointer;\n",
              "    display: none;\n",
              "    fill: var(--fill-color);\n",
              "    height: 32px;\n",
              "    padding: 0;\n",
              "    width: 32px;\n",
              "  }\n",
              "\n",
              "  .colab-df-quickchart:hover {\n",
              "    background-color: var(--hover-bg-color);\n",
              "    box-shadow: 0 1px 2px rgba(60, 64, 67, 0.3), 0 1px 3px 1px rgba(60, 64, 67, 0.15);\n",
              "    fill: var(--button-hover-fill-color);\n",
              "  }\n",
              "\n",
              "  .colab-df-quickchart-complete:disabled,\n",
              "  .colab-df-quickchart-complete:disabled:hover {\n",
              "    background-color: var(--disabled-bg-color);\n",
              "    fill: var(--disabled-fill-color);\n",
              "    box-shadow: none;\n",
              "  }\n",
              "\n",
              "  .colab-df-spinner {\n",
              "    border: 2px solid var(--fill-color);\n",
              "    border-color: transparent;\n",
              "    border-bottom-color: var(--fill-color);\n",
              "    animation:\n",
              "      spin 1s steps(1) infinite;\n",
              "  }\n",
              "\n",
              "  @keyframes spin {\n",
              "    0% {\n",
              "      border-color: transparent;\n",
              "      border-bottom-color: var(--fill-color);\n",
              "      border-left-color: var(--fill-color);\n",
              "    }\n",
              "    20% {\n",
              "      border-color: transparent;\n",
              "      border-left-color: var(--fill-color);\n",
              "      border-top-color: var(--fill-color);\n",
              "    }\n",
              "    30% {\n",
              "      border-color: transparent;\n",
              "      border-left-color: var(--fill-color);\n",
              "      border-top-color: var(--fill-color);\n",
              "      border-right-color: var(--fill-color);\n",
              "    }\n",
              "    40% {\n",
              "      border-color: transparent;\n",
              "      border-right-color: var(--fill-color);\n",
              "      border-top-color: var(--fill-color);\n",
              "    }\n",
              "    60% {\n",
              "      border-color: transparent;\n",
              "      border-right-color: var(--fill-color);\n",
              "    }\n",
              "    80% {\n",
              "      border-color: transparent;\n",
              "      border-right-color: var(--fill-color);\n",
              "      border-bottom-color: var(--fill-color);\n",
              "    }\n",
              "    90% {\n",
              "      border-color: transparent;\n",
              "      border-bottom-color: var(--fill-color);\n",
              "    }\n",
              "  }\n",
              "</style>\n",
              "\n",
              "  <script>\n",
              "    async function quickchart(key) {\n",
              "      const quickchartButtonEl =\n",
              "        document.querySelector('#' + key + ' button');\n",
              "      quickchartButtonEl.disabled = true;  // To prevent multiple clicks.\n",
              "      quickchartButtonEl.classList.add('colab-df-spinner');\n",
              "      try {\n",
              "        const charts = await google.colab.kernel.invokeFunction(\n",
              "            'suggestCharts', [key], {});\n",
              "      } catch (error) {\n",
              "        console.error('Error during call to suggestCharts:', error);\n",
              "      }\n",
              "      quickchartButtonEl.classList.remove('colab-df-spinner');\n",
              "      quickchartButtonEl.classList.add('colab-df-quickchart-complete');\n",
              "    }\n",
              "    (() => {\n",
              "      let quickchartButtonEl =\n",
              "        document.querySelector('#df-e472d763-b7a4-4246-9814-e9af258873c0 button');\n",
              "      quickchartButtonEl.style.display =\n",
              "        google.colab.kernel.accessAllowed ? 'block' : 'none';\n",
              "    })();\n",
              "  </script>\n",
              "</div>\n",
              "    </div>\n",
              "  </div>\n"
            ]
          },
          "metadata": {},
          "execution_count": 21
        }
      ]
    },
    {
      "cell_type": "code",
      "source": [
        "pd.set_option('display.max_colwidth', None)\n",
        "df['Labor Complaint'].value_counts()"
      ],
      "metadata": {
        "colab": {
          "base_uri": "https://localhost:8080/"
        },
        "id": "tUjT4XkeWSWP",
        "outputId": "d145da6b-f69e-48c7-ffbe-3fec6a4ea7a3"
      },
      "execution_count": null,
      "outputs": [
        {
          "output_type": "execute_result",
          "data": {
            "text/plain": [
              "CUSTOMER REQ GM CERTIFIED SERVICE AND GO                                                                                   45\n",
              "CUSTOMER REQUESTS LUBE, OIL AND FILTER                                                                                     15\n",
              "CUSTOMER REQ GM CERTIFIED SERVICE AND GO|ADDITIONAL RECOMMENDED SERVICE - ENGINE|ADDITIONAL RECOMMENDED SERVICE - CABIN     4\n",
              "CUSTOMER STATES CHECK ENGINE LIGHT IS ON                                                                                    3\n",
              "BATTERY REPLACEMENT                                                                                                         2\n",
              "                                                                                                                           ..\n",
              "CUSTOMER REQ GM CERTIFIED SERVICE AND GO|C/S CEL IS ON, FLASHES - ADVISE                                                    1\n",
              "C/S AC BLOWS WARM AIR                                                                                                       1\n",
              "C/S CEL WAS ON, OFF NOW|C/S HAS SHAKE FEEL FROM PASS FRONT TIRE|CUSTOMER REQ GM CERTIFIED SERVICE AND GO                    1\n",
              "C/S CEL ON - ADVISE|C/S CEL COMES ON|COOLANT LEAK|ASSURANT 800-621-2130                                                     1\n",
              "CUSTOMER REQ GM CERTIFIED SERVICE AND GO|C/S CHECK ALIGNMENT, FRONT TIRES WEARING                                           1\n",
              "Name: Labor Complaint, Length: 91, dtype: int64"
            ]
          },
          "metadata": {},
          "execution_count": 41
        }
      ]
    },
    {
      "cell_type": "code",
      "source": [
        "df['Labor_Complaint_num']. = df['Labor Complaint'].map({\n",
        "    'CUSTOMER REQ GM CERTIFIED SERVICE AND GO' : 0,\n",
        "    'CUSTOMER REQUESTS LUBE, OIL AND FILTER' : 1,\n",
        "    'CUSTOMER REQ GM CERTIFIED SERVICE AND GO|ADDITIONAL RECOMMENDED SERVICE - ENGINE|ADDITIONAL RECOMMENDED SERVICE - CABIN' : 2,\n",
        "    'CCUSTOMER STATES CHECK ENGINE LIGHT IS ON' : 3,\n",
        "    'BATTERY REPLACEMENT ' : 4,\n",
        "\n",
        "\n",
        "    'CUSTOMER REQ GM CERTIFIED SERVICE AND GO|C/S CEL IS ON, FLASHES - ADVISE' : 0,\n",
        "    'C/S AC BLOWS WARM AIR' : 0,\n",
        "    'C/S CEL WAS ON, OFF NOW|C/S HAS SHAKE FEEL FROM PASS FRONT TIRE|CUSTOMER REQ GM CERTIFIED SERVICE AND GO' : 0,\n",
        "    'C/S CEL ON - ADVISE|C/S CEL COMES ON|COOLANT LEAK|ASSURANT 800-621-2130' : 0,\n",
        "    'CUSTOMER REQ GM CERTIFIED SERVICE AND GO|C/S CHECK ALIGNMENT, FRONT TIRES WEARING' : 0,\n",
        "})"
      ],
      "metadata": {
        "id": "STsYvPdMWhWi"
      },
      "execution_count": null,
      "outputs": []
    }
  ]
}